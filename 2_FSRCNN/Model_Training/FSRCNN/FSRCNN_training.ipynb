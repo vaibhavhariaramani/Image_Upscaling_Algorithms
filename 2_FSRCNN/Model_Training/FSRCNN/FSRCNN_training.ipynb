{
  "nbformat": 4,
  "nbformat_minor": 0,
  "metadata": {
    "colab": {
      "name": "FSRCNN.ipynb",
      "provenance": []
    },
    "kernelspec": {
      "name": "python3",
      "display_name": "Python 3"
    },
    "language_info": {
      "name": "python"
    }
  },
  "cells": [
    {
      "cell_type": "code",
      "metadata": {
        "id": "K87U8uHhqVqa"
      },
      "source": [
        "from __future__ import print_function\n",
        "\n",
        "import cv2\n",
        "import tensorflow as tf \n",
        "import numpy as np \n",
        "import os"
      ],
      "execution_count": null,
      "outputs": []
    },
    {
      "cell_type": "code",
      "metadata": {
        "id": "2RSWo19nqbSV"
      },
      "source": [
        "def model(x, y, lr_size, scale, batch, lr, (d, s, m)):\n",
        "    \"\"\"\n",
        "    Implementation of FSRCNN: http://mmlab.ie.cuhk.edu.hk/projects/FSRCNN.html.\n",
        "    \"\"\"\n",
        "    \n",
        "    channels = 1\n",
        "    PS = channels * (scale*scale) # for sub-pixel, PS = Phase Shift\n",
        "    bias_initializer = tf.constant_initializer(value=0.0)\n",
        "\n",
        "    # -- Filters and Biases\n",
        "    filters = [\n",
        "        tf.Variable(tf.random_normal([5, 5, 1, d], stddev=0.1), name=\"f1\"),           # (f1,n1,c1) = (5,64,1)\n",
        "        tf.Variable(tf.random_normal([1, 1, d, s], stddev=0.1), name=\"f2\"),           # (f2,n2,c2) = (3,12,56)\n",
        "        tf.Variable(tf.random_normal([1, 1, s, d], stddev=0.1), name=\"f%d\" % (3 + m)),# (f4,n4,c4) = (1,56,12)\n",
        "        tf.Variable(tf.random_normal([1, 1, d, PS], stddev=0.1), name=\"f%d\" % (4 + m)) # (f5,n5,c5) = (9,1,56) \n",
        "    ]\n",
        "    bias = [\n",
        "        tf.get_variable(shape=[d], initializer=bias_initializer, name=\"b1\"),\n",
        "        tf.get_variable(shape=[s], initializer=bias_initializer, name=\"b2\"),\n",
        "        tf.get_variable(shape=[d], initializer=bias_initializer, name=\"b%d\" % (3 + m)),\n",
        "        tf.get_variable(shape=[1], initializer=bias_initializer, name=\"b%d\" % (4 + m))\n",
        "    ]\n",
        "    # add filters and biases for 'non-linear mapping' layers (depeding on m), and name them in order\n",
        "    for i in range(0,m):\n",
        "        filters.insert(i+2, tf.Variable(tf.random_normal([3, 3, s, s], stddev=0.1), name=\"f%d\" % (3+i)))  # (f3,n3,c3) = (3,12,12)\n",
        "        bias.insert(i+2, tf.get_variable(shape=[s], initializer=bias_initializer, name=\"b%d\" % (3+i)))\n",
        "\n",
        "    # -- Model architecture --\n",
        "    # feature extraction\n",
        "    x = tf.nn.conv2d(x, filters[0], [1, 1, 1, 1], padding='SAME', name=\"conv1\")\n",
        "    x = x + bias[0]\n",
        "    x = prelu(x, \"alpha1\")\n",
        "  \n",
        "    # shrinking\n",
        "    x = tf.nn.conv2d(x, filters[1], [1, 1, 1, 1], padding='SAME', name=\"conv2\")\n",
        "    x = x + bias[1]\n",
        "    x = prelu(x, \"alpha2\")\n",
        "  \n",
        "    # non-linear mapping (amount of layers depends on m)\n",
        "    for i in range(0,m):\n",
        "        x = tf.nn.conv2d(x, filters[2+i], [1, 1, 1, 1], padding='SAME', name=\"conv%d\" % (3+i))\n",
        "        x = x + bias[2+i]\n",
        "        x = prelu(x, \"alpha{}\".format(3+i))\n",
        "  \n",
        "    # expanding\n",
        "    x = tf.nn.conv2d(x, filters[3+(m-1)], [1, 1, 1, 1], padding='SAME', name=\"conv%d\" % (3+m))\n",
        "    x = x + bias[3+(m-1)]\n",
        "    x = prelu(x, \"alpha{}\".format(3+m))\n",
        "    \n",
        "    x = tf.nn.conv2d(x, filters[4+(m-1)], [1, 1, 1, 1], padding='SAME', name=\"conv%d\" % (4+m))\n",
        "\n",
        "    # transpose\n",
        "    # x = tf.nn.conv2d_transpose(x, filters[4+(m-1)], output_shape=[batch,lr_size*scale,lr_size*scale,1],\n",
        "    #                                                 strides=[1, scale, scale, 1], \n",
        "    #                                                 padding='SAME', \n",
        "    #                                                 name=\"deconv\")\n",
        "\n",
        "    # sub-pixel\n",
        "    x = tf.nn.depth_to_space(x, scale, data_format='NHWC')\n",
        "    out = tf.nn.bias_add(x, bias[4+(m-1)], name = \"NHWC_output\")\n",
        "  \n",
        "    # -- --\n",
        "\n",
        "    # some outputs\n",
        "    out_nchw = tf.transpose(out, [0, 3, 1, 2], name=\"NCHW_output\")\n",
        "    psnr = tf.image.psnr(out, y, max_val=1.0)\n",
        "    loss = tf.losses.mean_squared_error(out, y)\n",
        "    train_op = tf.train.AdamOptimizer(learning_rate=lr).minimize(loss)\n",
        "\n",
        "    return out, loss, train_op, psnr\n"
      ],
      "execution_count": null,
      "outputs": []
    },
    {
      "cell_type": "code",
      "metadata": {
        "id": "vcH4dFBmqbO6"
      },
      "source": [
        "def prelu(_x, name):\n",
        "    \"\"\"\n",
        "    Parametric ReLU.\n",
        "    \"\"\"\n",
        "    alphas = tf.get_variable(name, _x.get_shape()[-1],\n",
        "                       initializer=tf.constant_initializer(0.1),\n",
        "                        dtype=tf.float32, trainable=True)\n",
        "    pos = tf.nn.relu(_x)\n",
        "    neg = alphas * (_x - abs(_x)) * 0.5\n",
        "\n",
        "    return pos + neg"
      ],
      "execution_count": null,
      "outputs": []
    },
    {
      "cell_type": "code",
      "metadata": {
        "id": "nM374GmiqVd1"
      },
      "source": [
        ""
      ],
      "execution_count": null,
      "outputs": []
    },
    {
      "cell_type": "code",
      "metadata": {
        "colab": {
          "base_uri": "https://localhost:8080/",
          "height": 378
        },
        "id": "Hss-zLLVp9iH",
        "outputId": "bccccfbf-8c12-4c96-997e-fb9a0bc13d73"
      },
      "source": [
        "import tensorflow as tf \n",
        "\n",
        "import data_utils\n",
        "import run\n",
        "import os\n",
        "import cv2\n",
        "import numpy as np\n",
        "import pathlib\n",
        "import argparse\n",
        "from PIL import Image\n",
        "import numpy\n",
        "from tensorflow.python.client import device_lib"
      ],
      "execution_count": null,
      "outputs": [
        {
          "output_type": "error",
          "ename": "ModuleNotFoundError",
          "evalue": "ignored",
          "traceback": [
            "\u001b[0;31m---------------------------------------------------------------------------\u001b[0m",
            "\u001b[0;31mModuleNotFoundError\u001b[0m                       Traceback (most recent call last)",
            "\u001b[0;32m<ipython-input-1-16301664c7c3>\u001b[0m in \u001b[0;36m<module>\u001b[0;34m()\u001b[0m\n\u001b[1;32m      1\u001b[0m \u001b[0;32mimport\u001b[0m \u001b[0mtensorflow\u001b[0m \u001b[0;32mas\u001b[0m \u001b[0mtf\u001b[0m\u001b[0;34m\u001b[0m\u001b[0;34m\u001b[0m\u001b[0m\n\u001b[0;32m----> 2\u001b[0;31m \u001b[0;32mimport\u001b[0m \u001b[0mfsrcnn\u001b[0m\u001b[0;34m\u001b[0m\u001b[0;34m\u001b[0m\u001b[0m\n\u001b[0m\u001b[1;32m      3\u001b[0m \u001b[0;32mimport\u001b[0m \u001b[0mdata_utils\u001b[0m\u001b[0;34m\u001b[0m\u001b[0;34m\u001b[0m\u001b[0m\n\u001b[1;32m      4\u001b[0m \u001b[0;32mimport\u001b[0m \u001b[0mrun\u001b[0m\u001b[0;34m\u001b[0m\u001b[0;34m\u001b[0m\u001b[0m\n\u001b[1;32m      5\u001b[0m \u001b[0;32mimport\u001b[0m \u001b[0mos\u001b[0m\u001b[0;34m\u001b[0m\u001b[0;34m\u001b[0m\u001b[0m\n",
            "\u001b[0;31mModuleNotFoundError\u001b[0m: No module named 'fsrcnn'",
            "",
            "\u001b[0;31m---------------------------------------------------------------------------\u001b[0;32m\nNOTE: If your import is failing due to a missing package, you can\nmanually install dependencies using either !pip or !apt.\n\nTo view examples of installing some common dependencies, click the\n\"Open Examples\" button below.\n\u001b[0;31m---------------------------------------------------------------------------\u001b[0m\n"
          ]
        }
      ]
    },
    {
      "cell_type": "code",
      "metadata": {
        "id": "dbz3e3maqQOZ"
      },
      "source": [
        "os.environ['TF_CPP_MIN_LOG_LEVEL'] = '2' #gets rid of avx/fma warning"
      ],
      "execution_count": null,
      "outputs": []
    }
  ]
}